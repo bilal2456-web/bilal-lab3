{
 "cells": [
  {
   "cell_type": "code",
   "execution_count": 4,
   "id": "b32da92d-fc79-4048-9923-435d95791051",
   "metadata": {},
   "outputs": [
    {
     "name": "stdout",
     "output_type": "stream",
     "text": [
      "Prediction: [1 1 0]\n",
      "Confusion Matrix:\n",
      "[[0 1]\n",
      " [1 1]]\n",
      "Accuracy: 0.3333333333333333\n"
     ]
    }
   ],
   "source": [
    "from sklearn import preprocessing\n",
    "from sklearn.neighbors import KNeighborsClassifier\n",
    "from sklearn.metrics import confusion_matrix, accuracy_score\n",
    "mood = [\"Happy\", \"Stressed\", \"Neutral\", \"Happy\", \"Bored\", \"Stressed\", \"Neutral\", \"Happy\", \"Bored\", \"Stressed\",\n",
    "             \"Happy\", \"Neutral\", \"Bored\", \"Happy\"]\n",
    "time_of_day =[\"Morning\", \"Morning\", \"Afternoon\", \"Afternoon\", \"Evening\", \"Evening\", \"Morning\", \"Afternoon\",\n",
    "                    \"Morning\", \"Morning\", \"Evening\", \"Afternoon\", \"Morning\", \"Morning\"]\n",
    "buy_coffee = [\"Yes\", \"Yes\", \"No\", \"Yes\", \"No\", \"Yes\", \"No\", \"Yes\", \"No\", \"Yes\",\n",
    "                   \"Yes\", \"No\", \"No\", \"Yes\"]\n",
    "le = preprocessing.LabelEncoder()\n",
    "mood_encoded=le.fit_transform(mood)\n",
    "time_of_day_encoded=le.fit_transform(time_of_day)\n",
    "buy_coffee_encoded=le.fit_transform(buy_coffee)\n",
    "features=list(zip(mood_encoded,time_of_day_encoded))\n",
    "from sklearn.model_selection import train_test_split\n",
    "features_train, features_test,label_train,label_test=train_test_split(features, buy_coffee_encoded, test_size=0.2, random_state=42)\n",
    "model = KNeighborsClassifier(n_neighbors=3, metric='euclidean')\n",
    "model.fit(features_train, label_train)\n",
    "predicted = model.predict(features_test)\n",
    "print(\"Prediction:\", predicted)\n",
    "conf_mat = confusion_matrix(label_test, predicted)\n",
    "print(\"Confusion Matrix:\")\n",
    "print(conf_mat)\n",
    "accuracy = accuracy_score(label_test, predicted)\n",
    "print(\"Accuracy:\", accuracy)"
   ]
  },
  {
   "cell_type": "code",
   "execution_count": null,
   "id": "811db494-46d5-4094-918b-398f5d779e3b",
   "metadata": {},
   "outputs": [],
   "source": []
  }
 ],
 "metadata": {
  "kernelspec": {
   "display_name": "Python 3 (ipykernel)",
   "language": "python",
   "name": "python3"
  },
  "language_info": {
   "codemirror_mode": {
    "name": "ipython",
    "version": 3
   },
   "file_extension": ".py",
   "mimetype": "text/x-python",
   "name": "python",
   "nbconvert_exporter": "python",
   "pygments_lexer": "ipython3",
   "version": "3.12.7"
  }
 },
 "nbformat": 4,
 "nbformat_minor": 5
}
