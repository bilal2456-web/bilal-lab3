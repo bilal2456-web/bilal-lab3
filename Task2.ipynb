{
 "cells": [
  {
   "cell_type": "code",
   "execution_count": 1,
   "id": "acf044f8-8465-4ea2-af92-6d9f138c6317",
   "metadata": {},
   "outputs": [
    {
     "name": "stdout",
     "output_type": "stream",
     "text": [
      "Nearest Neighbors and their Distances:\n",
      "Sample (X1=8, X2=6), Y=Good, Distance=2.24\n",
      "Sample (X1=5, X2=5), Y=Bad, Distance=2.24\n",
      "Sample (X1=4, X2=8), Y=Good, Distance=2.24\n",
      "\n",
      "Predicted Classification for the query instance: Good\n"
     ]
    }
   ],
   "source": [
    "import math\n",
    "from collections import Counter\n",
    "\n",
    "# Define training samples with X1 (durability), X2 (strength), and Y (classification)\n",
    "training_samples = [\n",
    "    {'X1': 8, 'X2': 6, 'Y': 'Good'},\n",
    "    {'X1': 5, 'X2': 5, 'Y': 'Bad'},\n",
    "    {'X1': 4, 'X2': 8, 'Y': 'Good'},\n",
    "    {'X1': 2, 'X2': 2, 'Y': 'Bad'}\n",
    "]\n",
    "\n",
    "# Query instance coordinates\n",
    "query_instance = {'X1': 6, 'X2': 7}\n",
    "\n",
    "# Function to calculate Euclidean distance\n",
    "def euclidean_distance(sample, query):\n",
    "    return math.sqrt((sample['X1'] - query['X1']) ** 2 + (sample['X2'] - query['X2']) ** 2)\n",
    "\n",
    "# Calculate distances from the query instance to each training sample\n",
    "for sample in training_samples:\n",
    "    sample['distance'] = euclidean_distance(sample, query_instance)\n",
    "\n",
    "# Sort the training samples by distance\n",
    "training_samples = sorted(training_samples, key=lambda x: x['distance'])\n",
    "\n",
    "# Get the classes of the 3 nearest neighbors\n",
    "k = 3\n",
    "nearest_neighbors = training_samples[:k]\n",
    "nearest_classes = [neighbor['Y'] for neighbor in nearest_neighbors]\n",
    "\n",
    "# Determine the most common class among the nearest neighbors\n",
    "predicted_class = Counter(nearest_classes).most_common(1)[0][0]\n",
    "\n",
    "# Output the results\n",
    "print(\"Nearest Neighbors and their Distances:\")\n",
    "for neighbor in nearest_neighbors:\n",
    "    print(f\"Sample (X1={neighbor['X1']}, X2={neighbor['X2']}), Y={neighbor['Y']}, Distance={neighbor['distance']:.2f}\")\n",
    "\n",
    "print(f\"\\nPredicted Classification for the query instance: {predicted_class}\")\n"
   ]
  },
  {
   "cell_type": "code",
   "execution_count": null,
   "id": "f4b2810c-38fa-4d39-8f67-e80f75539d69",
   "metadata": {},
   "outputs": [],
   "source": []
  }
 ],
 "metadata": {
  "kernelspec": {
   "display_name": "Python 3 (ipykernel)",
   "language": "python",
   "name": "python3"
  },
  "language_info": {
   "codemirror_mode": {
    "name": "ipython",
    "version": 3
   },
   "file_extension": ".py",
   "mimetype": "text/x-python",
   "name": "python",
   "nbconvert_exporter": "python",
   "pygments_lexer": "ipython3",
   "version": "3.12.7"
  }
 },
 "nbformat": 4,
 "nbformat_minor": 5
}
